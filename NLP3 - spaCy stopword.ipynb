{
 "cells": [
  {
   "attachments": {
    "s4.jpg": {
     "image/jpeg": "[encoded data removed]"
    }
   },
   "cell_type": "markdown",
   "metadata": {},
   "source": [
    "![s4.jpg](attachment:s4.jpg)"
   ]
  },
  {
   "cell_type": "markdown",
   "metadata": {},
   "source": [
    "# Stopword"
   ]
  },
  {
   "cell_type": "markdown",
   "metadata": {},
   "source": [
    "Let's compare 2 phrases\n",
    "\n",
    " Phrase1 : We will go to movie after the dinner\n",
    " Phrase2 : We will go movie after the dinner"
   ]
  },
  {
   "cell_type": "markdown",
   "metadata": {},
   "source": [
    "## Why to remove stopword\n",
    "\n",
    "   1. Datset size and time taken to train the model\n",
    "   2. more relevant output, faster and accurate"
   ]
  },
  {
   "cell_type": "markdown",
   "metadata": {},
   "source": [
    "## Stop the stopword\n",
    "\n",
    "1. NLTK\n",
    "2. spaCY\n",
    "3. Gensim\n",
    "4. Scikit-Learn\n",
    "5. TextBlob"
   ]
  },
  {
   "cell_type": "markdown",
   "metadata": {},
   "source": [
    "## When should we remove stopword\n",
    "\n",
    "Remove Stopword\n",
    "\n",
    "Text Classification\n",
    "Spam Filtering\n",
    "Language Classification\n",
    "Caption Generation\n",
    "Auto-tag Generation\n",
    "\n",
    "Avoid stopword Removal\n",
    "\n",
    "Machine Translation\n",
    "Language Modeling\n",
    "Text Summarization\n",
    "Questioning-Answering Problems\n",
    "\n",
    "  "
   ]
  },
  {
   "cell_type": "code",
   "execution_count": 25,
   "metadata": {},
   "outputs": [
    {
     "name": "stdout",
     "output_type": "stream",
     "text": [
      "326\n",
      "{'almost', 'either', 'if', 'us', 'very', 'with', 'not', 'from', 'these', 'much', 'still', 'nine', 'eight', 'keep', 'over', \"'s\", 'onto', 'who', '‘m', 'formerly', 'beside', 'anywhere', 'mine', 'after', 'themselves', 'three', 'another', 'once', 'rather', 'fifteen', 'whom', 'nobody', 'whereafter', 're', 'hence', 'sometimes', 'none', 'all', 'at', 'such', 'most', 'whereby', 'whereas', 'perhaps', 'others', 'among', 'this', 'until', 'between', 'unless', 'sixty', 'back', 'elsewhere', 'via', 'go', 'four', 'side', 'latterly', 'himself', 'put', 'former', 'seems', 'using', 'someone', 'thereby', \"n't\", 'doing', \"'m\", 'then', 'show', 'often', 'first', 'latter', 'n’t', 'already', 'made', 'now', 'toward', 'on', 'amount', 'ever', 'every', 'twenty', 'is', 'whither', 'any', 'within', 'anything', 'towards', 'twelve', 'six', 'yours', 'during', 'full', 'everyone', 'last', 'under', 'whose', 'so', 'somewhere', 'we', 'nor', 'wherein', 'was', 'however', 'n‘t', 'call', 'some', 'itself', 'must', 'quite', 'else', 'about', 'ourselves', 'done', 'never', 'a', 'why', '‘re', 'am', 'or', \"'ve\", 'whenever', 'and', 'moreover', 'along', 'no', 'serious', 'whether', 'five', 'because', 'everywhere', 'does', 'seem', \"'d\", 'hereupon', 'just', 'can', 'whereupon', 'your', '‘s', 'sometime', 'many', 'less', 'might', 'regarding', 'neither', 'his', '’d', 'ten', 'off', 'whole', 'him', 'nevertheless', 'thereupon', 'be', 'have', 'each', 'yet', 'namely', 'anyhow', '‘ll', 'her', 'hereafter', 'up', 'well', 'behind', 'you', 'take', 'afterwards', 'by', \"'ll\", 'mostly', 'yourself', 'had', 'are', 'per', 'he', 'noone', 'part', 'thereafter', 'see', 'one', 'its', 'their', 'thus', 'even', 'empty', 'same', 'few', 'thru', 'upon', 'the', 'cannot', '’m', 'out', 'beforehand', 'too', 'became', 'except', 'yourselves', 'give', 'did', 'through', 'besides', 'into', 'say', 'how', 'while', 'should', 'becoming', 'were', 'wherever', 'become', 'down', 'everything', 'although', 'two', 'again', 'further', 'anyway', 'meanwhile', 'here', '‘ve', 'due', 'they', 'she', 'hereby', 'an', 'of', 'my', 'myself', 'least', 'something', 'indeed', 'move', \"'re\", 'together', 'other', 'around', 'bottom', 'for', 'used', 'next', 'various', '’ve', 'eleven', 'which', 'do', 'against', 'own', 'therefore', 'them', 'forty', 'front', 'seemed', 'hers', 'may', 'without', 'therein', 'really', 'thence', 'otherwise', 'but', 'whatever', 'more', 'would', 'below', 'in', 'please', 'top', 'i', 'those', 'only', 'that', 'somehow', 'me', 'as', 'make', '’s', 'anyone', 'also', 'enough', 'alone', 'been', 'throughout', 'hundred', 'it', 'whoever', 'though', 'across', 'our', 'when', 'being', 'has', 'where', 'becomes', 'before', 'fifty', 'both', 'what', 'third', 'whence', '’re', 'since', 'ca', 'beyond', 'to', 'always', 'herself', '’ll', 'amongst', 'than', 'nowhere', 'seeming', 'herein', 'get', 'there', 'could', 'name', 'nothing', 'above', '‘d', 'ours', 'several', 'will'}\n"
     ]
    }
   ],
   "source": [
    "import spacy\n",
    "nlp = spacy.load(\"en_core_web_sm\")\n",
    "from spacy.lang.en.stop_words import STOP_WORDS\n",
    "print(len(STOP_WORDS))\n",
    "print(STOP_WORDS)"
   ]
  },
  {
   "cell_type": "markdown",
   "metadata": {},
   "source": [
    "### Let's see, how to check stopwords"
   ]
  },
  {
   "cell_type": "code",
   "execution_count": 26,
   "metadata": {},
   "outputs": [
    {
     "data": {
      "text/plain": [
       "True"
      ]
     },
     "execution_count": 26,
     "metadata": {},
     "output_type": "execute_result"
    }
   ],
   "source": [
    "nlp.vocab['bottom'].is_stop"
   ]
  },
  {
   "cell_type": "code",
   "execution_count": 27,
   "metadata": {},
   "outputs": [
    {
     "data": {
      "text/plain": [
       "False"
      ]
     },
     "execution_count": 27,
     "metadata": {},
     "output_type": "execute_result"
    }
   ],
   "source": [
    "nlp.vocab['happy'].is_stop"
   ]
  },
  {
   "cell_type": "markdown",
   "metadata": {},
   "source": [
    "### Straining stopwords from text"
   ]
  },
  {
   "cell_type": "code",
   "execution_count": 28,
   "metadata": {},
   "outputs": [
    {
     "name": "stdout",
     "output_type": "stream",
     "text": [
      "The\n",
      "was\n",
      "to\n",
      "but\n",
      "due\n",
      "to\n"
     ]
    }
   ],
   "source": [
    "ex1=nlp('The door was open till 7PM, Abhishek fought to visit Croatia but postponed due to 24 hrs meeting')\n",
    "for i in ex1:\n",
    "  if i.is_stop==True:\n",
    "    print(i)"
   ]
  },
  {
   "cell_type": "markdown",
   "metadata": {},
   "source": [
    "### Custom stop word"
   ]
  },
  {
   "cell_type": "markdown",
   "metadata": {},
   "source": [
    "#### Add stopword"
   ]
  },
  {
   "cell_type": "code",
   "execution_count": 29,
   "metadata": {},
   "outputs": [
    {
     "name": "stdout",
     "output_type": "stream",
     "text": [
      "327\n"
     ]
    }
   ],
   "source": [
    "STOP_WORDS.add('Test')\n",
    "print(len(STOP_WORDS))\n",
    "#print(STOP_WORDS)"
   ]
  },
  {
   "cell_type": "code",
   "execution_count": 30,
   "metadata": {},
   "outputs": [
    {
     "name": "stdout",
     "output_type": "stream",
     "text": [
      "329\n"
     ]
    }
   ],
   "source": [
    "#Add Multiple stopword\n",
    "STOP_WORDS |= {\"Token1\",\"Token2\"}\n",
    "print(len(STOP_WORDS))"
   ]
  },
  {
   "cell_type": "markdown",
   "metadata": {},
   "source": [
    "#### Remove stopword "
   ]
  },
  {
   "cell_type": "code",
   "execution_count": 31,
   "metadata": {},
   "outputs": [
    {
     "name": "stdout",
     "output_type": "stream",
     "text": [
      "328\n"
     ]
    }
   ],
   "source": [
    "STOP_WORDS.remove('Test')\n",
    "print(len(STOP_WORDS))\n",
    "#print(STOP_WORDS)"
   ]
  },
  {
   "cell_type": "code",
   "execution_count": 32,
   "metadata": {},
   "outputs": [
    {
     "name": "stdout",
     "output_type": "stream",
     "text": [
      "326\n"
     ]
    }
   ],
   "source": [
    "#Remove Multiple stopword\n",
    "STOP_WORDS -= {\"Token1\",\"Token2\"}\n",
    "print(len(STOP_WORDS))"
   ]
  }
 ],
 "metadata": {
  "kernelspec": {
   "display_name": "Python 3",
   "language": "python",
   "name": "python3"
  },
  "language_info": {
   "codemirror_mode": {
    "name": "ipython",
    "version": 3
   },
   "file_extension": ".py",
   "mimetype": "text/x-python",
   "name": "python",
   "nbconvert_exporter": "python",
   "pygments_lexer": "ipython3",
   "version": "3.7.6"
  },
  "toc": {
   "base_numbering": 1,
   "nav_menu": {},
   "number_sections": true,
   "sideBar": true,
   "skip_h1_title": false,
   "title_cell": "Table of Contents",
   "title_sidebar": "Contents",
   "toc_cell": false,
   "toc_position": {},
   "toc_section_display": true,
   "toc_window_display": true
  }
 },
 "nbformat": 4,
 "nbformat_minor": 4
}
